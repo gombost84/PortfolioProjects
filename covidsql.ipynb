{
    "metadata": {
        "kernelspec": {
            "name": "SQL",
            "display_name": "SQL",
            "language": "sql"
        },
        "language_info": {
            "name": "sql",
            "version": ""
        },
        "extensions": {
            "azuredatastudio": {
                "version": 1,
                "views": []
            }
        }
    },
    "nbformat_minor": 2,
    "nbformat": 4,
    "cells": [
        {
            "cell_type": "code",
            "source": [
                "SELECT location, MAX(CAST(total_deaths AS INT)) as TotalDeaths\r\n",
                "FROM PortfolioProject..CovidDeaths$\r\n",
                "\r\n",
                "WHERE continent IS NULL\r\n",
                "AND location NOT IN ('World', 'European Union', 'International')\r\n",
                "\r\n",
                "GROUP BY location\r\n",
                "ORDER BY TotalDeaths desc"
            ],
            "metadata": {
                "azdata_cell_guid": "3e4cdac6-670d-4c74-b9a2-a0a09cbd911b"
            },
            "outputs": [],
            "execution_count": null
        },
        {
            "cell_type": "code",
            "source": [
                "SELECT location, MAX(CAST(total_deaths AS INT)) as TotalDeaths\r\n",
                "FROM PortfolioProject..CovidDeaths$\r\n",
                "\r\n",
                "WHERE continent IS NOT NULL\r\n",
                "\r\n",
                "GROUP BY location\r\n",
                "ORDER BY TotalDeaths desc"
            ],
            "metadata": {
                "azdata_cell_guid": "4740638e-cbde-4a09-9b26-cccb3cc70954"
            },
            "outputs": [],
            "execution_count": null
        },
        {
            "cell_type": "code",
            "source": [
                "SELECT cd.continent, cd.location, cd.date, cd.population, cv.new_vaccinations,\r\n",
                "SUM(CAST(cv.new_vaccinations AS INT)) OVER (PARTITION BY cd.location ORDER BY cd.location, cd.date) as TotalVacc\r\n",
                "\r\n",
                "FROM PortfolioProject..CovidDeaths$ cd\r\n",
                "JOIN PortfolioProject..CovidVaccinations$ cv\r\n",
                "    ON cd.location = cv.location\r\n",
                "    and cd.date = cv.date\r\n",
                "\r\n",
                "WHERE cd.continent = 'Europe'\r\n",
                "ORDER BY cd.continent, cd.location, cd.date"
            ],
            "metadata": {
                "azdata_cell_guid": "1da268ab-8ad9-403f-bae5-3167fdc2acb0"
            },
            "outputs": [],
            "execution_count": null
        },
        {
            "cell_type": "code",
            "source": [
                "WITH my_table (Continent, Country, Date, Population, NewVaccinations, RollingTotalVacc) as\n",
                "\n",
                "(\n",
                "SELECT cd.continent, cd.location, cd.date, cd.population, cv.new_vaccinations, SUM(CONVERT(INT, cv.new_vaccinations)) OVER (PARTITION BY cd.location ORDER BY cd.location, cd.date) as TotalVacc\n",
                "FROM PortfolioProject..CovidDeaths$ cd\n",
                "JOIN PortfolioProject..CovidVaccinations$ cv\n",
                "    ON cd.location = cv.location\n",
                "    and cd.date = cv.date\n",
                "WHERE cd.continent = 'Europe'\n",
                ")\n",
                "\n",
                "SELECT *, (RollingTotalVacc/Population)*100 AS PopPercentVaxxed\n",
                "FROM my_table\n",
                "ORDER BY Country, Date"
            ],
            "metadata": {
                "azdata_cell_guid": "afbb58f2-7263-468b-ac25-8caa6bfdc125"
            },
            "outputs": [],
            "execution_count": 15
        },
        {
            "cell_type": "code",
            "source": [
                "DROP TABLE IF EXISTS #my_temp_table\r\n",
                "CREATE TABLE #my_temp_table\r\n",
                "\r\n",
                "(\r\n",
                "Continent nvarchar(255),\r\n",
                "Country nvarchar(255),\r\n",
                "Date datetime,\r\n",
                "Population numeric,\r\n",
                "NewVaccinations numeric,\r\n",
                "RollingTotalVacc numeric\r\n",
                ")\r\n",
                "\r\n",
                "INSERT INTO #my_temp_table\r\n",
                "SELECT cd.continent, cd.location, cd.date, cd.population, cv.new_vaccinations, SUM(CONVERT(INT, cv.new_vaccinations)) OVER (PARTITION BY cd.location ORDER BY cd.location, cd.date) as TotalVacc\r\n",
                "FROM PortfolioProject..CovidDeaths$ cd\r\n",
                "JOIN PortfolioProject..CovidVaccinations$ cv\r\n",
                "    ON cd.location = cv.location\r\n",
                "    and cd.date = cv.date\r\n",
                "WHERE cd.continent = 'Europe'\r\n",
                "\r\n",
                "SELECT TOP (500) *\r\n",
                "FROM #my_temp_table"
            ],
            "metadata": {
                "azdata_cell_guid": "4679a990-076c-4b04-8925-21834ddeb2b7"
            },
            "outputs": [],
            "execution_count": null
        },
        {
            "cell_type": "code",
            "source": [
                "USE PortfolioProject\r\n",
                "GO\r\n",
                "\r\n",
                "CREATE VIEW WorkingView AS\r\n",
                "SELECT cd.continent, cd.location, cd.date, cd.population, cv.new_vaccinations, SUM(CONVERT(INT, cv.new_vaccinations)) OVER (PARTITION BY cd.location ORDER BY cd.location, cd.date) as TotalVacc\r\n",
                "FROM PortfolioProject..CovidDeaths$ cd\r\n",
                "JOIN PortfolioProject..CovidVaccinations$ cv\r\n",
                "    ON cd.location = cv.location\r\n",
                "    and cd.date = cv.date\r\n",
                "WHERE cd.continent = 'Europe'"
            ],
            "metadata": {
                "azdata_cell_guid": "2353ca4b-ac86-481a-85a0-cdaef1e7a7aa"
            },
            "outputs": [
                {
                    "output_type": "display_data",
                    "data": {
                        "text/html": "Commands completed successfully."
                    },
                    "metadata": {}
                },
                {
                    "output_type": "error",
                    "evalue": "Msg 156, Level 15, State 1, Procedure WorkingView, Line 10\r\nIncorrect syntax near the keyword 'SELECT'.",
                    "ename": "",
                    "traceback": []
                },
                {
                    "output_type": "display_data",
                    "data": {
                        "text/html": "Total execution time: 00:00:00.020"
                    },
                    "metadata": {}
                }
            ],
            "execution_count": 1
        },
        {
            "cell_type": "code",
            "source": [
                "SELECT TOP (50) *\r\n",
                "FROM PortfolioProject..WorkingView\r\n",
                "GROUP BY continent, location, date, population, new_vaccinations, TotalVacc\r\n",
                "ORDER BY location, date\r\n",
                ""
            ],
            "metadata": {
                "azdata_cell_guid": "2415ad7e-cfea-4b68-8cad-8ca1e89f49ca"
            },
            "outputs": [
                {
                    "output_type": "display_data",
                    "data": {
                        "text/html": "Warning: Null value is eliminated by an aggregate or other SET operation."
                    },
                    "metadata": {}
                },
                {
                    "output_type": "display_data",
                    "data": {
                        "text/html": "(50 rows affected)"
                    },
                    "metadata": {}
                },
                {
                    "output_type": "display_data",
                    "data": {
                        "text/html": "Total execution time: 00:00:00.175"
                    },
                    "metadata": {}
                },
                {
                    "output_type": "execute_result",
                    "metadata": {},
                    "execution_count": 3,
                    "data": {
                        "application/vnd.dataresource+json": {
                            "schema": {
                                "fields": [
                                    {
                                        "name": "continent"
                                    },
                                    {
                                        "name": "location"
                                    },
                                    {
                                        "name": "date"
                                    },
                                    {
                                        "name": "population"
                                    },
                                    {
                                        "name": "new_vaccinations"
                                    },
                                    {
                                        "name": "TotalVacc"
                                    }
                                ]
                            },
                            "data": [
                                {
                                    "0": "Europe",
                                    "1": "Albania",
                                    "2": "2020-02-25 00:00:00.000",
                                    "3": "2872934",
                                    "4": "NULL",
                                    "5": "NULL"
                                },
                                {
                                    "0": "Europe",
                                    "1": "Albania",
                                    "2": "2020-02-26 00:00:00.000",
                                    "3": "2872934",
                                    "4": "NULL",
                                    "5": "NULL"
                                },
                                {
                                    "0": "Europe",
                                    "1": "Albania",
                                    "2": "2020-02-27 00:00:00.000",
                                    "3": "2872934",
                                    "4": "NULL",
                                    "5": "NULL"
                                },
                                {
                                    "0": "Europe",
                                    "1": "Albania",
                                    "2": "2020-02-28 00:00:00.000",
                                    "3": "2872934",
                                    "4": "NULL",
                                    "5": "NULL"
                                },
                                {
                                    "0": "Europe",
                                    "1": "Albania",
                                    "2": "2020-02-29 00:00:00.000",
                                    "3": "2872934",
                                    "4": "NULL",
                                    "5": "NULL"
                                },
                                {
                                    "0": "Europe",
                                    "1": "Albania",
                                    "2": "2020-03-01 00:00:00.000",
                                    "3": "2872934",
                                    "4": "NULL",
                                    "5": "NULL"
                                },
                                {
                                    "0": "Europe",
                                    "1": "Albania",
                                    "2": "2020-03-02 00:00:00.000",
                                    "3": "2872934",
                                    "4": "NULL",
                                    "5": "NULL"
                                },
                                {
                                    "0": "Europe",
                                    "1": "Albania",
                                    "2": "2020-03-03 00:00:00.000",
                                    "3": "2872934",
                                    "4": "NULL",
                                    "5": "NULL"
                                },
                                {
                                    "0": "Europe",
                                    "1": "Albania",
                                    "2": "2020-03-04 00:00:00.000",
                                    "3": "2872934",
                                    "4": "NULL",
                                    "5": "NULL"
                                },
                                {
                                    "0": "Europe",
                                    "1": "Albania",
                                    "2": "2020-03-05 00:00:00.000",
                                    "3": "2872934",
                                    "4": "NULL",
                                    "5": "NULL"
                                },
                                {
                                    "0": "Europe",
                                    "1": "Albania",
                                    "2": "2020-03-06 00:00:00.000",
                                    "3": "2872934",
                                    "4": "NULL",
                                    "5": "NULL"
                                },
                                {
                                    "0": "Europe",
                                    "1": "Albania",
                                    "2": "2020-03-07 00:00:00.000",
                                    "3": "2872934",
                                    "4": "NULL",
                                    "5": "NULL"
                                },
                                {
                                    "0": "Europe",
                                    "1": "Albania",
                                    "2": "2020-03-08 00:00:00.000",
                                    "3": "2872934",
                                    "4": "NULL",
                                    "5": "NULL"
                                },
                                {
                                    "0": "Europe",
                                    "1": "Albania",
                                    "2": "2020-03-09 00:00:00.000",
                                    "3": "2872934",
                                    "4": "NULL",
                                    "5": "NULL"
                                },
                                {
                                    "0": "Europe",
                                    "1": "Albania",
                                    "2": "2020-03-10 00:00:00.000",
                                    "3": "2872934",
                                    "4": "NULL",
                                    "5": "NULL"
                                },
                                {
                                    "0": "Europe",
                                    "1": "Albania",
                                    "2": "2020-03-11 00:00:00.000",
                                    "3": "2872934",
                                    "4": "NULL",
                                    "5": "NULL"
                                },
                                {
                                    "0": "Europe",
                                    "1": "Albania",
                                    "2": "2020-03-12 00:00:00.000",
                                    "3": "2872934",
                                    "4": "NULL",
                                    "5": "NULL"
                                },
                                {
                                    "0": "Europe",
                                    "1": "Albania",
                                    "2": "2020-03-13 00:00:00.000",
                                    "3": "2872934",
                                    "4": "NULL",
                                    "5": "NULL"
                                },
                                {
                                    "0": "Europe",
                                    "1": "Albania",
                                    "2": "2020-03-14 00:00:00.000",
                                    "3": "2872934",
                                    "4": "NULL",
                                    "5": "NULL"
                                },
                                {
                                    "0": "Europe",
                                    "1": "Albania",
                                    "2": "2020-03-15 00:00:00.000",
                                    "3": "2872934",
                                    "4": "NULL",
                                    "5": "NULL"
                                },
                                {
                                    "0": "Europe",
                                    "1": "Albania",
                                    "2": "2020-03-16 00:00:00.000",
                                    "3": "2872934",
                                    "4": "NULL",
                                    "5": "NULL"
                                },
                                {
                                    "0": "Europe",
                                    "1": "Albania",
                                    "2": "2020-03-17 00:00:00.000",
                                    "3": "2872934",
                                    "4": "NULL",
                                    "5": "NULL"
                                },
                                {
                                    "0": "Europe",
                                    "1": "Albania",
                                    "2": "2020-03-18 00:00:00.000",
                                    "3": "2872934",
                                    "4": "NULL",
                                    "5": "NULL"
                                },
                                {
                                    "0": "Europe",
                                    "1": "Albania",
                                    "2": "2020-03-19 00:00:00.000",
                                    "3": "2872934",
                                    "4": "NULL",
                                    "5": "NULL"
                                },
                                {
                                    "0": "Europe",
                                    "1": "Albania",
                                    "2": "2020-03-20 00:00:00.000",
                                    "3": "2872934",
                                    "4": "NULL",
                                    "5": "NULL"
                                },
                                {
                                    "0": "Europe",
                                    "1": "Albania",
                                    "2": "2020-03-21 00:00:00.000",
                                    "3": "2872934",
                                    "4": "NULL",
                                    "5": "NULL"
                                },
                                {
                                    "0": "Europe",
                                    "1": "Albania",
                                    "2": "2020-03-22 00:00:00.000",
                                    "3": "2872934",
                                    "4": "NULL",
                                    "5": "NULL"
                                },
                                {
                                    "0": "Europe",
                                    "1": "Albania",
                                    "2": "2020-03-23 00:00:00.000",
                                    "3": "2872934",
                                    "4": "NULL",
                                    "5": "NULL"
                                },
                                {
                                    "0": "Europe",
                                    "1": "Albania",
                                    "2": "2020-03-24 00:00:00.000",
                                    "3": "2872934",
                                    "4": "NULL",
                                    "5": "NULL"
                                },
                                {
                                    "0": "Europe",
                                    "1": "Albania",
                                    "2": "2020-03-25 00:00:00.000",
                                    "3": "2872934",
                                    "4": "NULL",
                                    "5": "NULL"
                                },
                                {
                                    "0": "Europe",
                                    "1": "Albania",
                                    "2": "2020-03-26 00:00:00.000",
                                    "3": "2872934",
                                    "4": "NULL",
                                    "5": "NULL"
                                },
                                {
                                    "0": "Europe",
                                    "1": "Albania",
                                    "2": "2020-03-27 00:00:00.000",
                                    "3": "2872934",
                                    "4": "NULL",
                                    "5": "NULL"
                                },
                                {
                                    "0": "Europe",
                                    "1": "Albania",
                                    "2": "2020-03-28 00:00:00.000",
                                    "3": "2872934",
                                    "4": "NULL",
                                    "5": "NULL"
                                },
                                {
                                    "0": "Europe",
                                    "1": "Albania",
                                    "2": "2020-03-29 00:00:00.000",
                                    "3": "2872934",
                                    "4": "NULL",
                                    "5": "NULL"
                                },
                                {
                                    "0": "Europe",
                                    "1": "Albania",
                                    "2": "2020-03-30 00:00:00.000",
                                    "3": "2872934",
                                    "4": "NULL",
                                    "5": "NULL"
                                },
                                {
                                    "0": "Europe",
                                    "1": "Albania",
                                    "2": "2020-03-31 00:00:00.000",
                                    "3": "2872934",
                                    "4": "NULL",
                                    "5": "NULL"
                                },
                                {
                                    "0": "Europe",
                                    "1": "Albania",
                                    "2": "2020-04-01 00:00:00.000",
                                    "3": "2872934",
                                    "4": "NULL",
                                    "5": "NULL"
                                },
                                {
                                    "0": "Europe",
                                    "1": "Albania",
                                    "2": "2020-04-02 00:00:00.000",
                                    "3": "2872934",
                                    "4": "NULL",
                                    "5": "NULL"
                                },
                                {
                                    "0": "Europe",
                                    "1": "Albania",
                                    "2": "2020-04-03 00:00:00.000",
                                    "3": "2872934",
                                    "4": "NULL",
                                    "5": "NULL"
                                },
                                {
                                    "0": "Europe",
                                    "1": "Albania",
                                    "2": "2020-04-04 00:00:00.000",
                                    "3": "2872934",
                                    "4": "NULL",
                                    "5": "NULL"
                                },
                                {
                                    "0": "Europe",
                                    "1": "Albania",
                                    "2": "2020-04-05 00:00:00.000",
                                    "3": "2872934",
                                    "4": "NULL",
                                    "5": "NULL"
                                },
                                {
                                    "0": "Europe",
                                    "1": "Albania",
                                    "2": "2020-04-06 00:00:00.000",
                                    "3": "2872934",
                                    "4": "NULL",
                                    "5": "NULL"
                                },
                                {
                                    "0": "Europe",
                                    "1": "Albania",
                                    "2": "2020-04-07 00:00:00.000",
                                    "3": "2872934",
                                    "4": "NULL",
                                    "5": "NULL"
                                },
                                {
                                    "0": "Europe",
                                    "1": "Albania",
                                    "2": "2020-04-08 00:00:00.000",
                                    "3": "2872934",
                                    "4": "NULL",
                                    "5": "NULL"
                                },
                                {
                                    "0": "Europe",
                                    "1": "Albania",
                                    "2": "2020-04-09 00:00:00.000",
                                    "3": "2872934",
                                    "4": "NULL",
                                    "5": "NULL"
                                },
                                {
                                    "0": "Europe",
                                    "1": "Albania",
                                    "2": "2020-04-10 00:00:00.000",
                                    "3": "2872934",
                                    "4": "NULL",
                                    "5": "NULL"
                                },
                                {
                                    "0": "Europe",
                                    "1": "Albania",
                                    "2": "2020-04-11 00:00:00.000",
                                    "3": "2872934",
                                    "4": "NULL",
                                    "5": "NULL"
                                },
                                {
                                    "0": "Europe",
                                    "1": "Albania",
                                    "2": "2020-04-12 00:00:00.000",
                                    "3": "2872934",
                                    "4": "NULL",
                                    "5": "NULL"
                                },
                                {
                                    "0": "Europe",
                                    "1": "Albania",
                                    "2": "2020-04-13 00:00:00.000",
                                    "3": "2872934",
                                    "4": "NULL",
                                    "5": "NULL"
                                },
                                {
                                    "0": "Europe",
                                    "1": "Albania",
                                    "2": "2020-04-14 00:00:00.000",
                                    "3": "2872934",
                                    "4": "NULL",
                                    "5": "NULL"
                                }
                            ]
                        },
                        "text/html": [
                            "<table>",
                            "<tr><th>continent</th><th>location</th><th>date</th><th>population</th><th>new_vaccinations</th><th>TotalVacc</th></tr>",
                            "<tr><td>Europe</td><td>Albania</td><td>2020-02-25 00:00:00.000</td><td>2872934</td><td>NULL</td><td>NULL</td></tr>",
                            "<tr><td>Europe</td><td>Albania</td><td>2020-02-26 00:00:00.000</td><td>2872934</td><td>NULL</td><td>NULL</td></tr>",
                            "<tr><td>Europe</td><td>Albania</td><td>2020-02-27 00:00:00.000</td><td>2872934</td><td>NULL</td><td>NULL</td></tr>",
                            "<tr><td>Europe</td><td>Albania</td><td>2020-02-28 00:00:00.000</td><td>2872934</td><td>NULL</td><td>NULL</td></tr>",
                            "<tr><td>Europe</td><td>Albania</td><td>2020-02-29 00:00:00.000</td><td>2872934</td><td>NULL</td><td>NULL</td></tr>",
                            "<tr><td>Europe</td><td>Albania</td><td>2020-03-01 00:00:00.000</td><td>2872934</td><td>NULL</td><td>NULL</td></tr>",
                            "<tr><td>Europe</td><td>Albania</td><td>2020-03-02 00:00:00.000</td><td>2872934</td><td>NULL</td><td>NULL</td></tr>",
                            "<tr><td>Europe</td><td>Albania</td><td>2020-03-03 00:00:00.000</td><td>2872934</td><td>NULL</td><td>NULL</td></tr>",
                            "<tr><td>Europe</td><td>Albania</td><td>2020-03-04 00:00:00.000</td><td>2872934</td><td>NULL</td><td>NULL</td></tr>",
                            "<tr><td>Europe</td><td>Albania</td><td>2020-03-05 00:00:00.000</td><td>2872934</td><td>NULL</td><td>NULL</td></tr>",
                            "<tr><td>Europe</td><td>Albania</td><td>2020-03-06 00:00:00.000</td><td>2872934</td><td>NULL</td><td>NULL</td></tr>",
                            "<tr><td>Europe</td><td>Albania</td><td>2020-03-07 00:00:00.000</td><td>2872934</td><td>NULL</td><td>NULL</td></tr>",
                            "<tr><td>Europe</td><td>Albania</td><td>2020-03-08 00:00:00.000</td><td>2872934</td><td>NULL</td><td>NULL</td></tr>",
                            "<tr><td>Europe</td><td>Albania</td><td>2020-03-09 00:00:00.000</td><td>2872934</td><td>NULL</td><td>NULL</td></tr>",
                            "<tr><td>Europe</td><td>Albania</td><td>2020-03-10 00:00:00.000</td><td>2872934</td><td>NULL</td><td>NULL</td></tr>",
                            "<tr><td>Europe</td><td>Albania</td><td>2020-03-11 00:00:00.000</td><td>2872934</td><td>NULL</td><td>NULL</td></tr>",
                            "<tr><td>Europe</td><td>Albania</td><td>2020-03-12 00:00:00.000</td><td>2872934</td><td>NULL</td><td>NULL</td></tr>",
                            "<tr><td>Europe</td><td>Albania</td><td>2020-03-13 00:00:00.000</td><td>2872934</td><td>NULL</td><td>NULL</td></tr>",
                            "<tr><td>Europe</td><td>Albania</td><td>2020-03-14 00:00:00.000</td><td>2872934</td><td>NULL</td><td>NULL</td></tr>",
                            "<tr><td>Europe</td><td>Albania</td><td>2020-03-15 00:00:00.000</td><td>2872934</td><td>NULL</td><td>NULL</td></tr>",
                            "<tr><td>Europe</td><td>Albania</td><td>2020-03-16 00:00:00.000</td><td>2872934</td><td>NULL</td><td>NULL</td></tr>",
                            "<tr><td>Europe</td><td>Albania</td><td>2020-03-17 00:00:00.000</td><td>2872934</td><td>NULL</td><td>NULL</td></tr>",
                            "<tr><td>Europe</td><td>Albania</td><td>2020-03-18 00:00:00.000</td><td>2872934</td><td>NULL</td><td>NULL</td></tr>",
                            "<tr><td>Europe</td><td>Albania</td><td>2020-03-19 00:00:00.000</td><td>2872934</td><td>NULL</td><td>NULL</td></tr>",
                            "<tr><td>Europe</td><td>Albania</td><td>2020-03-20 00:00:00.000</td><td>2872934</td><td>NULL</td><td>NULL</td></tr>",
                            "<tr><td>Europe</td><td>Albania</td><td>2020-03-21 00:00:00.000</td><td>2872934</td><td>NULL</td><td>NULL</td></tr>",
                            "<tr><td>Europe</td><td>Albania</td><td>2020-03-22 00:00:00.000</td><td>2872934</td><td>NULL</td><td>NULL</td></tr>",
                            "<tr><td>Europe</td><td>Albania</td><td>2020-03-23 00:00:00.000</td><td>2872934</td><td>NULL</td><td>NULL</td></tr>",
                            "<tr><td>Europe</td><td>Albania</td><td>2020-03-24 00:00:00.000</td><td>2872934</td><td>NULL</td><td>NULL</td></tr>",
                            "<tr><td>Europe</td><td>Albania</td><td>2020-03-25 00:00:00.000</td><td>2872934</td><td>NULL</td><td>NULL</td></tr>",
                            "<tr><td>Europe</td><td>Albania</td><td>2020-03-26 00:00:00.000</td><td>2872934</td><td>NULL</td><td>NULL</td></tr>",
                            "<tr><td>Europe</td><td>Albania</td><td>2020-03-27 00:00:00.000</td><td>2872934</td><td>NULL</td><td>NULL</td></tr>",
                            "<tr><td>Europe</td><td>Albania</td><td>2020-03-28 00:00:00.000</td><td>2872934</td><td>NULL</td><td>NULL</td></tr>",
                            "<tr><td>Europe</td><td>Albania</td><td>2020-03-29 00:00:00.000</td><td>2872934</td><td>NULL</td><td>NULL</td></tr>",
                            "<tr><td>Europe</td><td>Albania</td><td>2020-03-30 00:00:00.000</td><td>2872934</td><td>NULL</td><td>NULL</td></tr>",
                            "<tr><td>Europe</td><td>Albania</td><td>2020-03-31 00:00:00.000</td><td>2872934</td><td>NULL</td><td>NULL</td></tr>",
                            "<tr><td>Europe</td><td>Albania</td><td>2020-04-01 00:00:00.000</td><td>2872934</td><td>NULL</td><td>NULL</td></tr>",
                            "<tr><td>Europe</td><td>Albania</td><td>2020-04-02 00:00:00.000</td><td>2872934</td><td>NULL</td><td>NULL</td></tr>",
                            "<tr><td>Europe</td><td>Albania</td><td>2020-04-03 00:00:00.000</td><td>2872934</td><td>NULL</td><td>NULL</td></tr>",
                            "<tr><td>Europe</td><td>Albania</td><td>2020-04-04 00:00:00.000</td><td>2872934</td><td>NULL</td><td>NULL</td></tr>",
                            "<tr><td>Europe</td><td>Albania</td><td>2020-04-05 00:00:00.000</td><td>2872934</td><td>NULL</td><td>NULL</td></tr>",
                            "<tr><td>Europe</td><td>Albania</td><td>2020-04-06 00:00:00.000</td><td>2872934</td><td>NULL</td><td>NULL</td></tr>",
                            "<tr><td>Europe</td><td>Albania</td><td>2020-04-07 00:00:00.000</td><td>2872934</td><td>NULL</td><td>NULL</td></tr>",
                            "<tr><td>Europe</td><td>Albania</td><td>2020-04-08 00:00:00.000</td><td>2872934</td><td>NULL</td><td>NULL</td></tr>",
                            "<tr><td>Europe</td><td>Albania</td><td>2020-04-09 00:00:00.000</td><td>2872934</td><td>NULL</td><td>NULL</td></tr>",
                            "<tr><td>Europe</td><td>Albania</td><td>2020-04-10 00:00:00.000</td><td>2872934</td><td>NULL</td><td>NULL</td></tr>",
                            "<tr><td>Europe</td><td>Albania</td><td>2020-04-11 00:00:00.000</td><td>2872934</td><td>NULL</td><td>NULL</td></tr>",
                            "<tr><td>Europe</td><td>Albania</td><td>2020-04-12 00:00:00.000</td><td>2872934</td><td>NULL</td><td>NULL</td></tr>",
                            "<tr><td>Europe</td><td>Albania</td><td>2020-04-13 00:00:00.000</td><td>2872934</td><td>NULL</td><td>NULL</td></tr>",
                            "<tr><td>Europe</td><td>Albania</td><td>2020-04-14 00:00:00.000</td><td>2872934</td><td>NULL</td><td>NULL</td></tr>",
                            "</table>"
                        ]
                    }
                }
            ],
            "execution_count": 3
        }
    ]
}