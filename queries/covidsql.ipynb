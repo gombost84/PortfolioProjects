{
    "metadata": {
        "kernelspec": {
            "name": "SQL",
            "display_name": "SQL",
            "language": "sql"
        },
        "language_info": {
            "name": "sql",
            "version": ""
        },
        "extensions": {
            "azuredatastudio": {
                "version": 1,
                "views": []
            }
        }
    },
    "nbformat_minor": 2,
    "nbformat": 4,
    "cells": [
        {
            "cell_type": "code",
            "source": [
                "SELECT location, MAX(CAST(total_deaths AS INT)) as TotalDeaths\r\n",
                "FROM PortfolioProject..CovidDeaths$\r\n",
                "\r\n",
                "WHERE continent IS NULL\r\n",
                "AND location NOT IN ('World', 'European Union', 'International')\r\n",
                "\r\n",
                "GROUP BY location\r\n",
                "ORDER BY TotalDeaths desc"
            ],
            "metadata": {
                "azdata_cell_guid": "3e4cdac6-670d-4c74-b9a2-a0a09cbd911b"
            },
            "outputs": [],
            "execution_count": null
        },
        {
            "cell_type": "code",
            "source": [
                "SELECT location, MAX(CAST(total_deaths AS INT)) as TotalDeaths\r\n",
                "FROM PortfolioProject..CovidDeaths$\r\n",
                "\r\n",
                "WHERE continent IS NOT NULL\r\n",
                "\r\n",
                "GROUP BY location\r\n",
                "ORDER BY TotalDeaths desc"
            ],
            "metadata": {
                "azdata_cell_guid": "4740638e-cbde-4a09-9b26-cccb3cc70954"
            },
            "outputs": [],
            "execution_count": null
        },
        {
            "cell_type": "code",
            "source": [
                "SELECT cd.continent, cd.location, cd.date, cd.population, cv.new_vaccinations,\r\n",
                "SUM(CAST(cv.new_vaccinations AS INT)) OVER (PARTITION BY cd.location ORDER BY cd.location, cd.date) as TotalVacc\r\n",
                "\r\n",
                "FROM PortfolioProject..CovidDeaths$ cd\r\n",
                "JOIN PortfolioProject..CovidVaccinations$ cv\r\n",
                "    ON cd.location = cv.location\r\n",
                "    and cd.date = cv.date\r\n",
                "\r\n",
                "WHERE cd.continent = 'Europe'\r\n",
                "ORDER BY cd.continent, cd.location, cd.date"
            ],
            "metadata": {
                "azdata_cell_guid": "1da268ab-8ad9-403f-bae5-3167fdc2acb0"
            },
            "outputs": [],
            "execution_count": null
        },
        {
            "cell_type": "code",
            "source": [
                "WITH my_table (Continent, Country, Date, Population, NewVaccinations, RollingTotalVacc) as\n",
                "\n",
                "(\n",
                "SELECT cd.continent, cd.location, cd.date, cd.population, cv.new_vaccinations, SUM(CONVERT(INT, cv.new_vaccinations)) OVER (PARTITION BY cd.location ORDER BY cd.location, cd.date) as TotalVacc\n",
                "FROM PortfolioProject..CovidDeaths$ cd\n",
                "JOIN PortfolioProject..CovidVaccinations$ cv\n",
                "    ON cd.location = cv.location\n",
                "    and cd.date = cv.date\n",
                "WHERE cd.continent = 'Europe'\n",
                ")\n",
                "\n",
                "SELECT *, (RollingTotalVacc/Population)*100 AS PopPercentVaxxed\n",
                "FROM my_table\n",
                "ORDER BY Country, Date"
            ],
            "metadata": {
                "azdata_cell_guid": "afbb58f2-7263-468b-ac25-8caa6bfdc125"
            },
            "outputs": [],
            "execution_count": null
        },
        {
            "cell_type": "code",
            "source": [
                "DROP TABLE IF EXISTS #my_temp_table\r\n",
                "CREATE TABLE #my_temp_table\r\n",
                "\r\n",
                "(\r\n",
                "Continent nvarchar(255),\r\n",
                "Country nvarchar(255),\r\n",
                "Date datetime,\r\n",
                "Population numeric,\r\n",
                "NewVaccinations numeric,\r\n",
                "RollingTotalVacc numeric\r\n",
                ")\r\n",
                "\r\n",
                "INSERT INTO #my_temp_table\r\n",
                "SELECT cd.continent, cd.location, cd.date, cd.population, cv.new_vaccinations, SUM(CONVERT(INT, cv.new_vaccinations)) OVER (PARTITION BY cd.location ORDER BY cd.location, cd.date) as TotalVacc\r\n",
                "FROM PortfolioProject..CovidDeaths$ cd\r\n",
                "JOIN PortfolioProject..CovidVaccinations$ cv\r\n",
                "    ON cd.location = cv.location\r\n",
                "    and cd.date = cv.date\r\n",
                "WHERE cd.continent = 'Europe'\r\n",
                "\r\n",
                "SELECT TOP (500) *\r\n",
                "FROM #my_temp_table"
            ],
            "metadata": {
                "azdata_cell_guid": "4679a990-076c-4b04-8925-21834ddeb2b7"
            },
            "outputs": [],
            "execution_count": null
        },
        {
            "cell_type": "code",
            "source": [
                "USE PortfolioProject\r\n",
                "GO\r\n",
                "\r\n",
                "CREATE VIEW WorkingView AS\r\n",
                "SELECT cd.continent, cd.location, cd.date, cd.population, cv.new_vaccinations, SUM(CONVERT(INT, cv.new_vaccinations)) OVER (PARTITION BY cd.location ORDER BY cd.location, cd.date) as TotalVacc\r\n",
                "FROM PortfolioProject..CovidDeaths$ cd\r\n",
                "JOIN PortfolioProject..CovidVaccinations$ cv\r\n",
                "    ON cd.location = cv.location\r\n",
                "    and cd.date = cv.date\r\n",
                "WHERE cd.continent = 'Europe'"
            ],
            "metadata": {
                "azdata_cell_guid": "2353ca4b-ac86-481a-85a0-cdaef1e7a7aa"
            },
            "outputs": [],
            "execution_count": null
        },
        {
            "cell_type": "code",
            "source": [
                "SELECT TOP (50) *\r\n",
                "FROM PortfolioProject..WorkingView\r\n",
                "GROUP BY continent, location, date, population, new_vaccinations, TotalVacc\r\n",
                "ORDER BY location, date\r\n",
                ""
            ],
            "metadata": {
                "azdata_cell_guid": "2415ad7e-cfea-4b68-8cad-8ca1e89f49ca"
            },
            "outputs": [],
            "execution_count": null
        }
    ]
}