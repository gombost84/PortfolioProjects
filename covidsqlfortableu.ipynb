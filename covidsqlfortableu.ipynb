{
    "metadata": {
        "kernelspec": {
            "name": "SQL",
            "display_name": "SQL",
            "language": "sql"
        },
        "language_info": {
            "name": "sql",
            "version": ""
        },
        "extensions": {
            "azuredatastudio": {
                "version": 1,
                "views": []
            }
        }
    },
    "nbformat_minor": 2,
    "nbformat": 4,
    "cells": [
        {
            "cell_type": "code",
            "source": [
                "Select SUM(new_cases) as total_cases, SUM(cast(new_deaths as int)) as total_deaths, SUM(cast(new_deaths as int))/SUM(New_Cases)*100 as DeathPercentage\r\n",
                "From PortfolioProject..CovidDeaths$\r\n",
                "where continent is not null \r\n",
                "order by 1,2"
            ],
            "metadata": {
                "azdata_cell_guid": "569bdbf6-8553-4e15-8209-e0bbd7bb29a2"
            },
            "outputs": [],
            "execution_count": null
        },
        {
            "cell_type": "code",
            "source": [
                "Select location, SUM(cast(new_deaths as int)) as TotalDeathCount\r\n",
                "From PortfolioProject..CovidDeaths$\r\n",
                "Where continent is null \r\n",
                "and location not in ('World', 'European Union', 'International')\r\n",
                "Group by location\r\n",
                "order by TotalDeathCount desc"
            ],
            "metadata": {
                "azdata_cell_guid": "1303ab17-f30e-4140-8c69-e4a8293bf766"
            },
            "outputs": [],
            "execution_count": null
        },
        {
            "cell_type": "code",
            "source": [
                "Select Location, Population, MAX(total_cases) as HighestInfectionCount,  Max((total_cases/population))*100 as PercentPopulationInfected\r\n",
                "From PortfolioProject..CovidDeaths$\r\n",
                "Group by Location, Population\r\n",
                "order by PercentPopulationInfected desc"
            ],
            "metadata": {
                "azdata_cell_guid": "94173727-e2f4-4a56-bdb1-50b0e19d8719"
            },
            "outputs": [],
            "execution_count": null
        },
        {
            "cell_type": "code",
            "source": [
                "Select Location, Population,date, MAX(total_cases) as HighestInfectionCount,  Max((total_cases/population))*100 as PercentPopulationInfected\r\n",
                "From PortfolioProject..CovidDeaths$\r\n",
                "Group by Location, Population, date\r\n",
                "order by PercentPopulationInfected desc"
            ],
            "metadata": {
                "azdata_cell_guid": "f262a783-c033-4ec0-a7c8-2fcff77e114c"
            },
            "outputs": [],
            "execution_count": null
        }
    ]
}